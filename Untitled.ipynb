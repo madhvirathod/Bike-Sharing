{
 "cells": [
  {
   "cell_type": "code",
   "execution_count": null,
   "id": "d754cf1c-94fb-4f63-81fb-a72e78e3222b",
   "metadata": {},
   "outputs": [],
   "source": []
  }
 ],
 "metadata": {
  "kernelspec": {
   "display_name": "Python [conda env:venv_Bike-Sharing]",
   "language": "python",
   "name": "conda-env-venv_Bike-Sharing-py"
  },
  "language_info": {
   "codemirror_mode": {
    "name": "ipython",
    "version": 3
   },
   "file_extension": ".py",
   "mimetype": "text/x-python",
   "name": "python",
   "nbconvert_exporter": "python",
   "pygments_lexer": "ipython3",
   "version": "3.12.4"
  }
 },
 "nbformat": 4,
 "nbformat_minor": 5
}
