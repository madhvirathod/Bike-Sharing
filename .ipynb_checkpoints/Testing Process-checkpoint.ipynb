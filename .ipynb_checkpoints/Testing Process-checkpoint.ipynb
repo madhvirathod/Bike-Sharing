{
 "cells": [
  {
   "cell_type": "markdown",
   "id": "9a1ddf6a-fdd8-4c6a-89cb-a2b2cee19ed7",
   "metadata": {
    "tags": []
   },
   "source": [
    " # Testing Process "
   ]
  },
  {
   "cell_type": "code",
   "execution_count": 6,
   "id": "5ce49544-50c7-44b2-a75c-bbdadf22fdbe",
   "metadata": {
    "tags": []
   },
   "outputs": [],
   "source": [
    "import pandas as pd"
   ]
  },
  {
   "cell_type": "code",
   "execution_count": null,
   "id": "f6cb4cab-aa01-4897-b305-136d553d355c",
   "metadata": {},
   "outputs": [],
   "source": []
  }
 ],
 "metadata": {
  "kernelspec": {
   "display_name": "Python [conda env:venv_Bike-Sharing]",
   "language": "python",
   "name": "conda-env-venv_Bike-Sharing-py"
  },
  "language_info": {
   "codemirror_mode": {
    "name": "ipython",
    "version": 3
   },
   "file_extension": ".py",
   "mimetype": "text/x-python",
   "name": "python",
   "nbconvert_exporter": "python",
   "pygments_lexer": "ipython3",
   "version": "3.12.4"
  }
 },
 "nbformat": 4,
 "nbformat_minor": 5
}
